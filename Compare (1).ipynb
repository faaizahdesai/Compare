{
 "cells": [
  {
   "cell_type": "code",
   "execution_count": 1,
   "metadata": {},
   "outputs": [],
   "source": [
    "import numpy as np"
   ]
  },
  {
   "cell_type": "code",
   "execution_count": 2,
   "metadata": {},
   "outputs": [],
   "source": [
    "import pandas as pd"
   ]
  },
  {
   "cell_type": "code",
   "execution_count": 3,
   "metadata": {},
   "outputs": [],
   "source": [
    "import matplotlib.pyplot as plt"
   ]
  },
  {
   "cell_type": "code",
   "execution_count": 4,
   "metadata": {},
   "outputs": [],
   "source": [
    "%matplotlib inline"
   ]
  },
  {
   "cell_type": "code",
   "execution_count": 5,
   "metadata": {},
   "outputs": [],
   "source": [
    "df = pd.read_excel (r'/Users/faaizahdesai/Desktop/City1.xlsx', sheet_name = 'City1')"
   ]
  },
  {
   "cell_type": "code",
   "execution_count": 6,
   "metadata": {},
   "outputs": [],
   "source": [
    "pd.set_option(\"display.max_rows\", None, \"display.max_columns\", None)"
   ]
  },
  {
   "cell_type": "code",
   "execution_count": 124,
   "metadata": {},
   "outputs": [],
   "source": [
    "ndf = pd.DataFrame(df, columns = (['CityID','CandID','Term_Start','Polls_Close','Turnout']))"
   ]
  },
  {
   "cell_type": "code",
   "execution_count": 149,
   "metadata": {},
   "outputs": [],
   "source": [
    "ndf = ndf.set_index('Term_Start').sort_values(by = ['Term_Start','CityID','Turnout'])"
   ]
  },
  {
   "cell_type": "code",
   "execution_count": 150,
   "metadata": {},
   "outputs": [
    {
     "data": {
      "text/plain": [
       "pandas.core.frame.DataFrame"
      ]
     },
     "execution_count": 150,
     "metadata": {},
     "output_type": "execute_result"
    }
   ],
   "source": [
    "type(ndf)"
   ]
  },
  {
   "cell_type": "code",
   "execution_count": 196,
   "metadata": {},
   "outputs": [
    {
     "data": {
      "text/html": [
       "<div>\n",
       "<style scoped>\n",
       "    .dataframe tbody tr th:only-of-type {\n",
       "        vertical-align: middle;\n",
       "    }\n",
       "\n",
       "    .dataframe tbody tr th {\n",
       "        vertical-align: top;\n",
       "    }\n",
       "\n",
       "    .dataframe thead th {\n",
       "        text-align: right;\n",
       "    }\n",
       "</style>\n",
       "<table border=\"1\" class=\"dataframe\">\n",
       "  <thead>\n",
       "    <tr style=\"text-align: right;\">\n",
       "      <th></th>\n",
       "      <th>CityID</th>\n",
       "      <th>CandID</th>\n",
       "      <th>Polls_Close</th>\n",
       "      <th>Turnout</th>\n",
       "    </tr>\n",
       "    <tr>\n",
       "      <th>Term_Start</th>\n",
       "      <th></th>\n",
       "      <th></th>\n",
       "      <th></th>\n",
       "      <th></th>\n",
       "    </tr>\n",
       "  </thead>\n",
       "  <tbody>\n",
       "    <tr>\n",
       "      <th>1900-01-01</th>\n",
       "      <td>22</td>\n",
       "      <td>262151</td>\n",
       "      <td>1899-12-12</td>\n",
       "      <td>18.14</td>\n",
       "    </tr>\n",
       "    <tr>\n",
       "      <th>1900-01-01</th>\n",
       "      <td>22</td>\n",
       "      <td>262149</td>\n",
       "      <td>1899-12-12</td>\n",
       "      <td>18.14</td>\n",
       "    </tr>\n",
       "    <tr>\n",
       "      <th>1900-01-01</th>\n",
       "      <td>22</td>\n",
       "      <td>262156</td>\n",
       "      <td>1899-12-12</td>\n",
       "      <td>18.14</td>\n",
       "    </tr>\n",
       "    <tr>\n",
       "      <th>1900-01-01</th>\n",
       "      <td>22</td>\n",
       "      <td>104521</td>\n",
       "      <td>1899-12-12</td>\n",
       "      <td>18.14</td>\n",
       "    </tr>\n",
       "    <tr>\n",
       "      <th>1900-04-19</th>\n",
       "      <td>30</td>\n",
       "      <td>99625</td>\n",
       "      <td>1900-04-03</td>\n",
       "      <td>0.00</td>\n",
       "    </tr>\n",
       "  </tbody>\n",
       "</table>\n",
       "</div>"
      ],
      "text/plain": [
       "            CityID  CandID Polls_Close  Turnout\n",
       "Term_Start                                     \n",
       "1900-01-01      22  262151  1899-12-12    18.14\n",
       "1900-01-01      22  262149  1899-12-12    18.14\n",
       "1900-01-01      22  262156  1899-12-12    18.14\n",
       "1900-01-01      22  104521  1899-12-12    18.14\n",
       "1900-04-19      30   99625  1900-04-03     0.00"
      ]
     },
     "execution_count": 196,
     "metadata": {},
     "output_type": "execute_result"
    }
   ],
   "source": [
    "ndf.head()"
   ]
  },
  {
   "cell_type": "code",
   "execution_count": 197,
   "metadata": {},
   "outputs": [
    {
     "data": {
      "text/plain": [
       "Term_Start             \n",
       "1900-01-01  CityID                          22\n",
       "            CandID                      262151\n",
       "            Polls_Close    1899-12-12 00:00:00\n",
       "            Turnout                      18.14\n",
       "            CityID                          22\n",
       "dtype: object"
      ]
     },
     "execution_count": 197,
     "metadata": {},
     "output_type": "execute_result"
    }
   ],
   "source": [
    "ndf.stack().head()"
   ]
  },
  {
   "cell_type": "code",
   "execution_count": 211,
   "metadata": {},
   "outputs": [],
   "source": [
    "Turn = ndf.groupby('Term_Start').agg({'Turnout':'max'})"
   ]
  },
  {
   "cell_type": "code",
   "execution_count": 212,
   "metadata": {},
   "outputs": [
    {
     "data": {
      "text/html": [
       "<div>\n",
       "<style scoped>\n",
       "    .dataframe tbody tr th:only-of-type {\n",
       "        vertical-align: middle;\n",
       "    }\n",
       "\n",
       "    .dataframe tbody tr th {\n",
       "        vertical-align: top;\n",
       "    }\n",
       "\n",
       "    .dataframe thead th {\n",
       "        text-align: right;\n",
       "    }\n",
       "</style>\n",
       "<table border=\"1\" class=\"dataframe\">\n",
       "  <thead>\n",
       "    <tr style=\"text-align: right;\">\n",
       "      <th></th>\n",
       "      <th>Turnout</th>\n",
       "    </tr>\n",
       "    <tr>\n",
       "      <th>Term_Start</th>\n",
       "      <th></th>\n",
       "    </tr>\n",
       "  </thead>\n",
       "  <tbody>\n",
       "    <tr>\n",
       "      <th>1900-01-01</th>\n",
       "      <td>18.14</td>\n",
       "    </tr>\n",
       "    <tr>\n",
       "      <th>1900-04-19</th>\n",
       "      <td>0.00</td>\n",
       "    </tr>\n",
       "    <tr>\n",
       "      <th>1900-05-08</th>\n",
       "      <td>0.02</td>\n",
       "    </tr>\n",
       "    <tr>\n",
       "      <th>1901-04-16</th>\n",
       "      <td>19.26</td>\n",
       "    </tr>\n",
       "    <tr>\n",
       "      <th>1901-05-14</th>\n",
       "      <td>0.02</td>\n",
       "    </tr>\n",
       "  </tbody>\n",
       "</table>\n",
       "</div>"
      ],
      "text/plain": [
       "            Turnout\n",
       "Term_Start         \n",
       "1900-01-01    18.14\n",
       "1900-04-19     0.00\n",
       "1900-05-08     0.02\n",
       "1901-04-16    19.26\n",
       "1901-05-14     0.02"
      ]
     },
     "execution_count": 212,
     "metadata": {},
     "output_type": "execute_result"
    }
   ],
   "source": [
    "Turn.head()"
   ]
  },
  {
   "cell_type": "code",
   "execution_count": 213,
   "metadata": {},
   "outputs": [],
   "source": [
    "Turnout= pd.merge(Turn, ndf, on=['Term_Start','Turnout'])"
   ]
  },
  {
   "cell_type": "code",
   "execution_count": 214,
   "metadata": {},
   "outputs": [],
   "source": [
    "Turnout = Turnout.sort_values(by = ['Term_Start','CityID','Turnout'])"
   ]
  },
  {
   "cell_type": "code",
   "execution_count": 215,
   "metadata": {},
   "outputs": [
    {
     "data": {
      "text/html": [
       "<div>\n",
       "<style scoped>\n",
       "    .dataframe tbody tr th:only-of-type {\n",
       "        vertical-align: middle;\n",
       "    }\n",
       "\n",
       "    .dataframe tbody tr th {\n",
       "        vertical-align: top;\n",
       "    }\n",
       "\n",
       "    .dataframe thead th {\n",
       "        text-align: right;\n",
       "    }\n",
       "</style>\n",
       "<table border=\"1\" class=\"dataframe\">\n",
       "  <thead>\n",
       "    <tr style=\"text-align: right;\">\n",
       "      <th></th>\n",
       "      <th>Turnout</th>\n",
       "      <th>CityID</th>\n",
       "      <th>CandID</th>\n",
       "      <th>Polls_Close</th>\n",
       "    </tr>\n",
       "    <tr>\n",
       "      <th>Term_Start</th>\n",
       "      <th></th>\n",
       "      <th></th>\n",
       "      <th></th>\n",
       "      <th></th>\n",
       "    </tr>\n",
       "  </thead>\n",
       "  <tbody>\n",
       "    <tr>\n",
       "      <th>1900-01-01</th>\n",
       "      <td>18.14</td>\n",
       "      <td>22</td>\n",
       "      <td>262151</td>\n",
       "      <td>1899-12-12</td>\n",
       "    </tr>\n",
       "    <tr>\n",
       "      <th>1900-01-01</th>\n",
       "      <td>18.14</td>\n",
       "      <td>22</td>\n",
       "      <td>262149</td>\n",
       "      <td>1899-12-12</td>\n",
       "    </tr>\n",
       "    <tr>\n",
       "      <th>1900-01-01</th>\n",
       "      <td>18.14</td>\n",
       "      <td>22</td>\n",
       "      <td>262156</td>\n",
       "      <td>1899-12-12</td>\n",
       "    </tr>\n",
       "    <tr>\n",
       "      <th>1900-01-01</th>\n",
       "      <td>18.14</td>\n",
       "      <td>22</td>\n",
       "      <td>104521</td>\n",
       "      <td>1899-12-12</td>\n",
       "    </tr>\n",
       "    <tr>\n",
       "      <th>1900-04-19</th>\n",
       "      <td>0.00</td>\n",
       "      <td>30</td>\n",
       "      <td>99625</td>\n",
       "      <td>1900-04-03</td>\n",
       "    </tr>\n",
       "  </tbody>\n",
       "</table>\n",
       "</div>"
      ],
      "text/plain": [
       "            Turnout  CityID  CandID Polls_Close\n",
       "Term_Start                                     \n",
       "1900-01-01    18.14      22  262151  1899-12-12\n",
       "1900-01-01    18.14      22  262149  1899-12-12\n",
       "1900-01-01    18.14      22  262156  1899-12-12\n",
       "1900-01-01    18.14      22  104521  1899-12-12\n",
       "1900-04-19     0.00      30   99625  1900-04-03"
      ]
     },
     "execution_count": 215,
     "metadata": {},
     "output_type": "execute_result"
    }
   ],
   "source": [
    "Turnout.head()"
   ]
  },
  {
   "cell_type": "code",
   "execution_count": 216,
   "metadata": {},
   "outputs": [],
   "source": [
    "pc = ndf.groupby('Term_Start').agg({'Polls_Close':'max'})"
   ]
  },
  {
   "cell_type": "code",
   "execution_count": 217,
   "metadata": {},
   "outputs": [
    {
     "data": {
      "text/html": [
       "<div>\n",
       "<style scoped>\n",
       "    .dataframe tbody tr th:only-of-type {\n",
       "        vertical-align: middle;\n",
       "    }\n",
       "\n",
       "    .dataframe tbody tr th {\n",
       "        vertical-align: top;\n",
       "    }\n",
       "\n",
       "    .dataframe thead th {\n",
       "        text-align: right;\n",
       "    }\n",
       "</style>\n",
       "<table border=\"1\" class=\"dataframe\">\n",
       "  <thead>\n",
       "    <tr style=\"text-align: right;\">\n",
       "      <th></th>\n",
       "      <th>Polls_Close</th>\n",
       "    </tr>\n",
       "    <tr>\n",
       "      <th>Term_Start</th>\n",
       "      <th></th>\n",
       "    </tr>\n",
       "  </thead>\n",
       "  <tbody>\n",
       "    <tr>\n",
       "      <th>1900-01-01</th>\n",
       "      <td>1899-12-12</td>\n",
       "    </tr>\n",
       "    <tr>\n",
       "      <th>1900-04-19</th>\n",
       "      <td>1900-04-03</td>\n",
       "    </tr>\n",
       "    <tr>\n",
       "      <th>1900-05-08</th>\n",
       "      <td>1900-04-02</td>\n",
       "    </tr>\n",
       "    <tr>\n",
       "      <th>1901-04-16</th>\n",
       "      <td>1901-04-02</td>\n",
       "    </tr>\n",
       "    <tr>\n",
       "      <th>1901-05-14</th>\n",
       "      <td>1901-04-02</td>\n",
       "    </tr>\n",
       "  </tbody>\n",
       "</table>\n",
       "</div>"
      ],
      "text/plain": [
       "           Polls_Close\n",
       "Term_Start            \n",
       "1900-01-01  1899-12-12\n",
       "1900-04-19  1900-04-03\n",
       "1900-05-08  1900-04-02\n",
       "1901-04-16  1901-04-02\n",
       "1901-05-14  1901-04-02"
      ]
     },
     "execution_count": 217,
     "metadata": {},
     "output_type": "execute_result"
    }
   ],
   "source": [
    "pc.head()"
   ]
  },
  {
   "cell_type": "code",
   "execution_count": 218,
   "metadata": {},
   "outputs": [],
   "source": [
    "PC= pd.merge(pc, ndf, on=['Term_Start','Polls_Close'])"
   ]
  },
  {
   "cell_type": "code",
   "execution_count": 219,
   "metadata": {},
   "outputs": [
    {
     "data": {
      "text/html": [
       "<div>\n",
       "<style scoped>\n",
       "    .dataframe tbody tr th:only-of-type {\n",
       "        vertical-align: middle;\n",
       "    }\n",
       "\n",
       "    .dataframe tbody tr th {\n",
       "        vertical-align: top;\n",
       "    }\n",
       "\n",
       "    .dataframe thead th {\n",
       "        text-align: right;\n",
       "    }\n",
       "</style>\n",
       "<table border=\"1\" class=\"dataframe\">\n",
       "  <thead>\n",
       "    <tr style=\"text-align: right;\">\n",
       "      <th></th>\n",
       "      <th>Polls_Close</th>\n",
       "      <th>CityID</th>\n",
       "      <th>CandID</th>\n",
       "      <th>Turnout</th>\n",
       "    </tr>\n",
       "    <tr>\n",
       "      <th>Term_Start</th>\n",
       "      <th></th>\n",
       "      <th></th>\n",
       "      <th></th>\n",
       "      <th></th>\n",
       "    </tr>\n",
       "  </thead>\n",
       "  <tbody>\n",
       "    <tr>\n",
       "      <th>1900-01-01</th>\n",
       "      <td>1899-12-12</td>\n",
       "      <td>22</td>\n",
       "      <td>262151</td>\n",
       "      <td>18.14</td>\n",
       "    </tr>\n",
       "    <tr>\n",
       "      <th>1900-01-01</th>\n",
       "      <td>1899-12-12</td>\n",
       "      <td>22</td>\n",
       "      <td>262149</td>\n",
       "      <td>18.14</td>\n",
       "    </tr>\n",
       "    <tr>\n",
       "      <th>1900-01-01</th>\n",
       "      <td>1899-12-12</td>\n",
       "      <td>22</td>\n",
       "      <td>262156</td>\n",
       "      <td>18.14</td>\n",
       "    </tr>\n",
       "    <tr>\n",
       "      <th>1900-01-01</th>\n",
       "      <td>1899-12-12</td>\n",
       "      <td>22</td>\n",
       "      <td>104521</td>\n",
       "      <td>18.14</td>\n",
       "    </tr>\n",
       "    <tr>\n",
       "      <th>1900-04-19</th>\n",
       "      <td>1900-04-03</td>\n",
       "      <td>30</td>\n",
       "      <td>99625</td>\n",
       "      <td>0.00</td>\n",
       "    </tr>\n",
       "  </tbody>\n",
       "</table>\n",
       "</div>"
      ],
      "text/plain": [
       "           Polls_Close  CityID  CandID  Turnout\n",
       "Term_Start                                     \n",
       "1900-01-01  1899-12-12      22  262151    18.14\n",
       "1900-01-01  1899-12-12      22  262149    18.14\n",
       "1900-01-01  1899-12-12      22  262156    18.14\n",
       "1900-01-01  1899-12-12      22  104521    18.14\n",
       "1900-04-19  1900-04-03      30   99625     0.00"
      ]
     },
     "execution_count": 219,
     "metadata": {},
     "output_type": "execute_result"
    }
   ],
   "source": [
    "PC.head()"
   ]
  },
  {
   "cell_type": "code",
   "execution_count": 220,
   "metadata": {},
   "outputs": [],
   "source": [
    "merge= pd.merge(result, result1, on=['Term_Start','CityID'])"
   ]
  },
  {
   "cell_type": "code",
   "execution_count": 221,
   "metadata": {},
   "outputs": [],
   "source": [
    "merge = result2.sort_values(by = ['Term_Start'])"
   ]
  },
  {
   "cell_type": "code",
   "execution_count": 222,
   "metadata": {},
   "outputs": [
    {
     "data": {
      "text/html": [
       "<div>\n",
       "<style scoped>\n",
       "    .dataframe tbody tr th:only-of-type {\n",
       "        vertical-align: middle;\n",
       "    }\n",
       "\n",
       "    .dataframe tbody tr th {\n",
       "        vertical-align: top;\n",
       "    }\n",
       "\n",
       "    .dataframe thead th {\n",
       "        text-align: right;\n",
       "    }\n",
       "</style>\n",
       "<table border=\"1\" class=\"dataframe\">\n",
       "  <thead>\n",
       "    <tr style=\"text-align: right;\">\n",
       "      <th></th>\n",
       "      <th>Turnout_x</th>\n",
       "      <th>CityID</th>\n",
       "      <th>CandID_x</th>\n",
       "      <th>Polls_Close_x</th>\n",
       "      <th>Polls_Close_y</th>\n",
       "      <th>CandID_y</th>\n",
       "      <th>Turnout_y</th>\n",
       "    </tr>\n",
       "    <tr>\n",
       "      <th>Term_Start</th>\n",
       "      <th></th>\n",
       "      <th></th>\n",
       "      <th></th>\n",
       "      <th></th>\n",
       "      <th></th>\n",
       "      <th></th>\n",
       "      <th></th>\n",
       "    </tr>\n",
       "  </thead>\n",
       "  <tbody>\n",
       "    <tr>\n",
       "      <th>1900-01-01</th>\n",
       "      <td>18.14</td>\n",
       "      <td>22</td>\n",
       "      <td>262151</td>\n",
       "      <td>1899-12-12</td>\n",
       "      <td>1899-12-12</td>\n",
       "      <td>262151</td>\n",
       "      <td>18.14</td>\n",
       "    </tr>\n",
       "    <tr>\n",
       "      <th>1900-01-01</th>\n",
       "      <td>18.14</td>\n",
       "      <td>22</td>\n",
       "      <td>262151</td>\n",
       "      <td>1899-12-12</td>\n",
       "      <td>1899-12-12</td>\n",
       "      <td>262149</td>\n",
       "      <td>18.14</td>\n",
       "    </tr>\n",
       "    <tr>\n",
       "      <th>1900-01-01</th>\n",
       "      <td>18.14</td>\n",
       "      <td>22</td>\n",
       "      <td>262151</td>\n",
       "      <td>1899-12-12</td>\n",
       "      <td>1899-12-12</td>\n",
       "      <td>262156</td>\n",
       "      <td>18.14</td>\n",
       "    </tr>\n",
       "    <tr>\n",
       "      <th>1900-01-01</th>\n",
       "      <td>18.14</td>\n",
       "      <td>22</td>\n",
       "      <td>262151</td>\n",
       "      <td>1899-12-12</td>\n",
       "      <td>1899-12-12</td>\n",
       "      <td>104521</td>\n",
       "      <td>18.14</td>\n",
       "    </tr>\n",
       "    <tr>\n",
       "      <th>1900-01-01</th>\n",
       "      <td>18.14</td>\n",
       "      <td>22</td>\n",
       "      <td>262149</td>\n",
       "      <td>1899-12-12</td>\n",
       "      <td>1899-12-12</td>\n",
       "      <td>262151</td>\n",
       "      <td>18.14</td>\n",
       "    </tr>\n",
       "  </tbody>\n",
       "</table>\n",
       "</div>"
      ],
      "text/plain": [
       "            Turnout_x  CityID  CandID_x Polls_Close_x Polls_Close_y  CandID_y  \\\n",
       "Term_Start                                                                      \n",
       "1900-01-01      18.14      22    262151    1899-12-12    1899-12-12    262151   \n",
       "1900-01-01      18.14      22    262151    1899-12-12    1899-12-12    262149   \n",
       "1900-01-01      18.14      22    262151    1899-12-12    1899-12-12    262156   \n",
       "1900-01-01      18.14      22    262151    1899-12-12    1899-12-12    104521   \n",
       "1900-01-01      18.14      22    262149    1899-12-12    1899-12-12    262151   \n",
       "\n",
       "            Turnout_y  \n",
       "Term_Start             \n",
       "1900-01-01      18.14  \n",
       "1900-01-01      18.14  \n",
       "1900-01-01      18.14  \n",
       "1900-01-01      18.14  \n",
       "1900-01-01      18.14  "
      ]
     },
     "execution_count": 222,
     "metadata": {},
     "output_type": "execute_result"
    }
   ],
   "source": [
    "merge.head()"
   ]
  },
  {
   "cell_type": "code",
   "execution_count": 223,
   "metadata": {},
   "outputs": [],
   "source": [
    "compare = merge[merge['CandID_x']!= merge['CandID_y']]"
   ]
  },
  {
   "cell_type": "code",
   "execution_count": 224,
   "metadata": {},
   "outputs": [
    {
     "data": {
      "text/plain": [
       "6418"
      ]
     },
     "execution_count": 224,
     "metadata": {},
     "output_type": "execute_result"
    }
   ],
   "source": [
    "len(compare)"
   ]
  },
  {
   "cell_type": "code",
   "execution_count": 226,
   "metadata": {},
   "outputs": [
    {
     "data": {
      "text/plain": [
       "8094"
      ]
     },
     "execution_count": 226,
     "metadata": {},
     "output_type": "execute_result"
    }
   ],
   "source": [
    "len(merge)"
   ]
  },
  {
   "cell_type": "code",
   "execution_count": null,
   "metadata": {},
   "outputs": [],
   "source": []
  }
 ],
 "metadata": {
  "kernelspec": {
   "display_name": "Python 3",
   "language": "python",
   "name": "python3"
  },
  "language_info": {
   "codemirror_mode": {
    "name": "ipython",
    "version": 3
   },
   "file_extension": ".py",
   "mimetype": "text/x-python",
   "name": "python",
   "nbconvert_exporter": "python",
   "pygments_lexer": "ipython3",
   "version": "3.7.3"
  }
 },
 "nbformat": 4,
 "nbformat_minor": 2
}
